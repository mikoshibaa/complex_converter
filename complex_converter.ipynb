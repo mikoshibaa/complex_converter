{
  "nbformat": 4,
  "nbformat_minor": 0,
  "metadata": {
    "colab": {
      "provenance": [],
      "collapsed_sections": []
    },
    "kernelspec": {
      "name": "python3",
      "display_name": "Python 3"
    },
    "language_info": {
      "name": "python"
    }
  },
  "cells": [
    {
      "cell_type": "markdown",
      "source": [
        "複素ベクトル$\\boldsymbol{z} \\in \\mathbb{C}^{M}$を次元2倍の実ベクトル$\\in \\mathbb{R}^{2M}$として扱いたいときの変換器\n",
        "\n",
        "\\begin{align}\n",
        "\\rm{C \\ to\\  R}:\n",
        "\\boldsymbol{z} \\mapsto \n",
        "\\begin{bmatrix} \n",
        "\\Re(\\boldsymbol{z}) \\\\\n",
        "\\Im(\\boldsymbol{z})\n",
        "\\end{bmatrix}\n",
        "\\end{align}\n",
        "逆変換$\\rm{R \\to C}$も実装済み． \\\\\n",
        "複素行列$A \\in \\mathbb{C}^{N \\times M}$は$\\mathbb{C}^{2N \\times 2M}$に写る\n",
        "\n",
        "\\begin{align}\n",
        "\\rm{C \\ to\\  R}:\n",
        "A \\mapsto \n",
        "\\begin{bmatrix} \n",
        "\\Re(A) & -\\Im(A) \\\\\n",
        "\\Im(A) & \\Re(A) \\\\\n",
        "\\end{bmatrix}\n",
        "\\end{align}"
      ],
      "metadata": {
        "id": "pReulN0tnKol"
      }
    },
    {
      "cell_type": "markdown",
      "source": [
        "本モジュールは$\\boldsymbol{z}, A$のshapeが$( \\rm{batch size}, M, 1\\ \\rm{or} \\ N)$のときのみ対応している."
      ],
      "metadata": {
        "id": "ZQg9V8q5tbQG"
      }
    },
    {
      "cell_type": "code",
      "source": [
        "import numpy as np"
      ],
      "metadata": {
        "id": "We_0qcAz-cPn"
      },
      "execution_count": 7,
      "outputs": []
    },
    {
      "cell_type": "code",
      "source": [
        "class ComplexConverter:\n",
        "  def __init__(self):\n",
        "    return\n",
        "  \n",
        "  def CtoR(self, z):\n",
        "    z_dim = z.ndim\n",
        "    \n",
        "    if z_dim == 3:\n",
        "      batch_size, M, N = z.shape\n",
        "      if N == 1:\n",
        "        real_vec = np.array([\n",
        "            np.concatenate([\n",
        "            z[:, :, 0].real,\n",
        "            z[:, :, 0].imag\n",
        "          ], axis = 1)\n",
        "        ]).transpose((1, 2, 0))\n",
        "        return real_vec\n",
        "      \n",
        "      else:\n",
        "        real_matrix_row_1 = np.concatenate([z.real, -z.imag], axis = 2)\n",
        "        real_matrix_row_2 = np.concatenate([z.imag, z.real], axis = 2)\n",
        "        real_matrix = np.concatenate([\n",
        "            real_matrix_row_1,\n",
        "            real_matrix_row_2\n",
        "        ], axis = 1)\n",
        "        return real_matrix\n",
        "\n",
        "    \n",
        "    else:\n",
        "      raise ValueError(\"imput ndim must be 3\")\n",
        "\n",
        "  def RtoC(self, H):\n",
        "    H_dim = H.ndim\n",
        "\n",
        "    if H_dim == 3:\n",
        "      batch_size, M, N = H.shape\n",
        "      if N == 1:\n",
        "        v_real, v_comp = H[:, 0:M//2, :], H[:, M//2:M, :]\n",
        "        v_comp = v_real + 1j * v_comp\n",
        "        return v_comp\n",
        "      \n",
        "      else:\n",
        "        mat_real, mat_imag = H[:, 0:M//2, 0:M//2], H[:, M//2:M, 0:M//2]\n",
        "        mat_comp = mat_real + 1j * mat_imag\n",
        "        return mat_comp\n",
        "    \n",
        "    else:\n",
        "      raise ValueError(\"imput ndim must be 3\")"
      ],
      "metadata": {
        "id": "oDK-3dods_Bw"
      },
      "execution_count": 21,
      "outputs": []
    }
  ]
}